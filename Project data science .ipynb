{
 "cells": [
  {
   "cell_type": "code",
   "execution_count": 1,
   "metadata": {},
   "outputs": [],
   "source": [
    "# Import Libraries\n",
    "import pandas as pd\n",
    "import numpy as np\n",
    "import matplotlib.pyplot as plt\n",
    "from sklearn import tree\n",
    "from sklearn.model_selection import train_test_split\n",
    "from sklearn import preprocessing"
   ]
  },
  {
   "cell_type": "code",
   "execution_count": 2,
   "metadata": {},
   "outputs": [],
   "source": [
    "dataset = pd.read_csv(r\"C:\\Users\\manso\\OneDrive\\Desktop\\Data Science Course\\credit cap.csv\")"
   ]
  },
  {
   "cell_type": "code",
   "execution_count": 3,
   "metadata": {
    "scrolled": true
   },
   "outputs": [
    {
     "data": {
      "text/html": [
       "<div>\n",
       "<style scoped>\n",
       "    .dataframe tbody tr th:only-of-type {\n",
       "        vertical-align: middle;\n",
       "    }\n",
       "\n",
       "    .dataframe tbody tr th {\n",
       "        vertical-align: top;\n",
       "    }\n",
       "\n",
       "    .dataframe thead th {\n",
       "        text-align: right;\n",
       "    }\n",
       "</style>\n",
       "<table border=\"1\" class=\"dataframe\">\n",
       "  <thead>\n",
       "    <tr style=\"text-align: right;\">\n",
       "      <th></th>\n",
       "      <th>ID</th>\n",
       "      <th>Gender</th>\n",
       "      <th>Risk</th>\n",
       "      <th>Age_bracket</th>\n",
       "      <th>Education</th>\n",
       "      <th>Previous_claim</th>\n",
       "      <th>Claims</th>\n",
       "    </tr>\n",
       "  </thead>\n",
       "  <tbody>\n",
       "    <tr>\n",
       "      <th>0</th>\n",
       "      <td>2</td>\n",
       "      <td>female</td>\n",
       "      <td>Risk Level 04</td>\n",
       "      <td>50+</td>\n",
       "      <td>Bachelors</td>\n",
       "      <td>0</td>\n",
       "      <td>claim</td>\n",
       "    </tr>\n",
       "    <tr>\n",
       "      <th>1</th>\n",
       "      <td>9</td>\n",
       "      <td>male</td>\n",
       "      <td>Risk Level 03</td>\n",
       "      <td>50+</td>\n",
       "      <td>Masters</td>\n",
       "      <td>0</td>\n",
       "      <td>claim</td>\n",
       "    </tr>\n",
       "    <tr>\n",
       "      <th>2</th>\n",
       "      <td>12</td>\n",
       "      <td>female</td>\n",
       "      <td>Risk Level 03</td>\n",
       "      <td>31-50</td>\n",
       "      <td>Doctorate</td>\n",
       "      <td>0</td>\n",
       "      <td>claim</td>\n",
       "    </tr>\n",
       "    <tr>\n",
       "      <th>3</th>\n",
       "      <td>15</td>\n",
       "      <td>female</td>\n",
       "      <td>Risk Level 02</td>\n",
       "      <td>18-30</td>\n",
       "      <td>Masters</td>\n",
       "      <td>1</td>\n",
       "      <td>claim</td>\n",
       "    </tr>\n",
       "    <tr>\n",
       "      <th>4</th>\n",
       "      <td>16</td>\n",
       "      <td>female</td>\n",
       "      <td>Risk Level 04</td>\n",
       "      <td>18-30</td>\n",
       "      <td>High School</td>\n",
       "      <td>1</td>\n",
       "      <td>claim</td>\n",
       "    </tr>\n",
       "  </tbody>\n",
       "</table>\n",
       "</div>"
      ],
      "text/plain": [
       "   ID  Gender           Risk Age_bracket    Education  Previous_claim Claims\n",
       "0   2  female  Risk Level 04         50+    Bachelors               0  claim\n",
       "1   9    male  Risk Level 03         50+      Masters               0  claim\n",
       "2  12  female  Risk Level 03       31-50    Doctorate               0  claim\n",
       "3  15  female  Risk Level 02       18-30      Masters               1  claim\n",
       "4  16  female  Risk Level 04       18-30  High School               1  claim"
      ]
     },
     "execution_count": 3,
     "metadata": {},
     "output_type": "execute_result"
    }
   ],
   "source": [
    "dataset.head()"
   ]
  },
  {
   "cell_type": "code",
   "execution_count": 4,
   "metadata": {},
   "outputs": [
    {
     "data": {
      "text/html": [
       "<div>\n",
       "<style scoped>\n",
       "    .dataframe tbody tr th:only-of-type {\n",
       "        vertical-align: middle;\n",
       "    }\n",
       "\n",
       "    .dataframe tbody tr th {\n",
       "        vertical-align: top;\n",
       "    }\n",
       "\n",
       "    .dataframe thead th {\n",
       "        text-align: right;\n",
       "    }\n",
       "</style>\n",
       "<table border=\"1\" class=\"dataframe\">\n",
       "  <thead>\n",
       "    <tr style=\"text-align: right;\">\n",
       "      <th></th>\n",
       "      <th>ID</th>\n",
       "      <th>Gender</th>\n",
       "      <th>Risk</th>\n",
       "      <th>Age_bracket</th>\n",
       "      <th>Education</th>\n",
       "      <th>Previous_claim</th>\n",
       "      <th>Claims</th>\n",
       "    </tr>\n",
       "  </thead>\n",
       "  <tbody>\n",
       "    <tr>\n",
       "      <th>995</th>\n",
       "      <td>995</td>\n",
       "      <td>female</td>\n",
       "      <td>Risk Level 02</td>\n",
       "      <td>31-50</td>\n",
       "      <td>Bachelors</td>\n",
       "      <td>0</td>\n",
       "      <td>no_claim</td>\n",
       "    </tr>\n",
       "    <tr>\n",
       "      <th>996</th>\n",
       "      <td>996</td>\n",
       "      <td>female</td>\n",
       "      <td>Risk Level 03</td>\n",
       "      <td>31-50</td>\n",
       "      <td>Masters</td>\n",
       "      <td>0</td>\n",
       "      <td>no_claim</td>\n",
       "    </tr>\n",
       "    <tr>\n",
       "      <th>997</th>\n",
       "      <td>997</td>\n",
       "      <td>male</td>\n",
       "      <td>Risk Level 01</td>\n",
       "      <td>18-30</td>\n",
       "      <td>Doctorate</td>\n",
       "      <td>1</td>\n",
       "      <td>no_claim</td>\n",
       "    </tr>\n",
       "    <tr>\n",
       "      <th>998</th>\n",
       "      <td>999</td>\n",
       "      <td>female</td>\n",
       "      <td>Risk Level 01</td>\n",
       "      <td>50+</td>\n",
       "      <td>High School</td>\n",
       "      <td>0</td>\n",
       "      <td>no_claim</td>\n",
       "    </tr>\n",
       "    <tr>\n",
       "      <th>999</th>\n",
       "      <td>1000</td>\n",
       "      <td>male</td>\n",
       "      <td>Risk Level 03</td>\n",
       "      <td>18-30</td>\n",
       "      <td>Diploma</td>\n",
       "      <td>1</td>\n",
       "      <td>no_claim</td>\n",
       "    </tr>\n",
       "  </tbody>\n",
       "</table>\n",
       "</div>"
      ],
      "text/plain": [
       "       ID  Gender           Risk Age_bracket    Education  Previous_claim  \\\n",
       "995   995  female  Risk Level 02       31-50    Bachelors               0   \n",
       "996   996  female  Risk Level 03       31-50      Masters               0   \n",
       "997   997    male  Risk Level 01       18-30    Doctorate               1   \n",
       "998   999  female  Risk Level 01         50+  High School               0   \n",
       "999  1000    male  Risk Level 03       18-30      Diploma               1   \n",
       "\n",
       "       Claims  \n",
       "995  no_claim  \n",
       "996  no_claim  \n",
       "997  no_claim  \n",
       "998  no_claim  \n",
       "999  no_claim  "
      ]
     },
     "execution_count": 4,
     "metadata": {},
     "output_type": "execute_result"
    }
   ],
   "source": [
    "dataset.tail()"
   ]
  },
  {
   "cell_type": "code",
   "execution_count": 5,
   "metadata": {},
   "outputs": [],
   "source": [
    "X = dataset.drop(['Claims','ID'], axis = 1)\n",
    "Y = dataset['Claims']"
   ]
  },
  {
   "cell_type": "code",
   "execution_count": 6,
   "metadata": {},
   "outputs": [
    {
     "data": {
      "text/html": [
       "<div>\n",
       "<style scoped>\n",
       "    .dataframe tbody tr th:only-of-type {\n",
       "        vertical-align: middle;\n",
       "    }\n",
       "\n",
       "    .dataframe tbody tr th {\n",
       "        vertical-align: top;\n",
       "    }\n",
       "\n",
       "    .dataframe thead th {\n",
       "        text-align: right;\n",
       "    }\n",
       "</style>\n",
       "<table border=\"1\" class=\"dataframe\">\n",
       "  <thead>\n",
       "    <tr style=\"text-align: right;\">\n",
       "      <th></th>\n",
       "      <th>Gender</th>\n",
       "      <th>Risk</th>\n",
       "      <th>Age_bracket</th>\n",
       "      <th>Education</th>\n",
       "      <th>Previous_claim</th>\n",
       "    </tr>\n",
       "  </thead>\n",
       "  <tbody>\n",
       "    <tr>\n",
       "      <th>0</th>\n",
       "      <td>female</td>\n",
       "      <td>Risk Level 04</td>\n",
       "      <td>50+</td>\n",
       "      <td>Bachelors</td>\n",
       "      <td>0</td>\n",
       "    </tr>\n",
       "    <tr>\n",
       "      <th>1</th>\n",
       "      <td>male</td>\n",
       "      <td>Risk Level 03</td>\n",
       "      <td>50+</td>\n",
       "      <td>Masters</td>\n",
       "      <td>0</td>\n",
       "    </tr>\n",
       "    <tr>\n",
       "      <th>2</th>\n",
       "      <td>female</td>\n",
       "      <td>Risk Level 03</td>\n",
       "      <td>31-50</td>\n",
       "      <td>Doctorate</td>\n",
       "      <td>0</td>\n",
       "    </tr>\n",
       "    <tr>\n",
       "      <th>3</th>\n",
       "      <td>female</td>\n",
       "      <td>Risk Level 02</td>\n",
       "      <td>18-30</td>\n",
       "      <td>Masters</td>\n",
       "      <td>1</td>\n",
       "    </tr>\n",
       "    <tr>\n",
       "      <th>4</th>\n",
       "      <td>female</td>\n",
       "      <td>Risk Level 04</td>\n",
       "      <td>18-30</td>\n",
       "      <td>High School</td>\n",
       "      <td>1</td>\n",
       "    </tr>\n",
       "    <tr>\n",
       "      <th>...</th>\n",
       "      <td>...</td>\n",
       "      <td>...</td>\n",
       "      <td>...</td>\n",
       "      <td>...</td>\n",
       "      <td>...</td>\n",
       "    </tr>\n",
       "    <tr>\n",
       "      <th>995</th>\n",
       "      <td>female</td>\n",
       "      <td>Risk Level 02</td>\n",
       "      <td>31-50</td>\n",
       "      <td>Bachelors</td>\n",
       "      <td>0</td>\n",
       "    </tr>\n",
       "    <tr>\n",
       "      <th>996</th>\n",
       "      <td>female</td>\n",
       "      <td>Risk Level 03</td>\n",
       "      <td>31-50</td>\n",
       "      <td>Masters</td>\n",
       "      <td>0</td>\n",
       "    </tr>\n",
       "    <tr>\n",
       "      <th>997</th>\n",
       "      <td>male</td>\n",
       "      <td>Risk Level 01</td>\n",
       "      <td>18-30</td>\n",
       "      <td>Doctorate</td>\n",
       "      <td>1</td>\n",
       "    </tr>\n",
       "    <tr>\n",
       "      <th>998</th>\n",
       "      <td>female</td>\n",
       "      <td>Risk Level 01</td>\n",
       "      <td>50+</td>\n",
       "      <td>High School</td>\n",
       "      <td>0</td>\n",
       "    </tr>\n",
       "    <tr>\n",
       "      <th>999</th>\n",
       "      <td>male</td>\n",
       "      <td>Risk Level 03</td>\n",
       "      <td>18-30</td>\n",
       "      <td>Diploma</td>\n",
       "      <td>1</td>\n",
       "    </tr>\n",
       "  </tbody>\n",
       "</table>\n",
       "<p>1000 rows × 5 columns</p>\n",
       "</div>"
      ],
      "text/plain": [
       "     Gender           Risk Age_bracket    Education  Previous_claim\n",
       "0    female  Risk Level 04         50+    Bachelors               0\n",
       "1      male  Risk Level 03         50+      Masters               0\n",
       "2    female  Risk Level 03       31-50    Doctorate               0\n",
       "3    female  Risk Level 02       18-30      Masters               1\n",
       "4    female  Risk Level 04       18-30  High School               1\n",
       "..      ...            ...         ...          ...             ...\n",
       "995  female  Risk Level 02       31-50    Bachelors               0\n",
       "996  female  Risk Level 03       31-50      Masters               0\n",
       "997    male  Risk Level 01       18-30    Doctorate               1\n",
       "998  female  Risk Level 01         50+  High School               0\n",
       "999    male  Risk Level 03       18-30      Diploma               1\n",
       "\n",
       "[1000 rows x 5 columns]"
      ]
     },
     "execution_count": 6,
     "metadata": {},
     "output_type": "execute_result"
    }
   ],
   "source": [
    "X"
   ]
  },
  {
   "cell_type": "code",
   "execution_count": 7,
   "metadata": {},
   "outputs": [
    {
     "data": {
      "text/plain": [
       "0         claim\n",
       "1         claim\n",
       "2         claim\n",
       "3         claim\n",
       "4         claim\n",
       "         ...   \n",
       "995    no_claim\n",
       "996    no_claim\n",
       "997    no_claim\n",
       "998    no_claim\n",
       "999    no_claim\n",
       "Name: Claims, Length: 1000, dtype: object"
      ]
     },
     "execution_count": 7,
     "metadata": {},
     "output_type": "execute_result"
    }
   ],
   "source": [
    "Y"
   ]
  },
  {
   "cell_type": "code",
   "execution_count": 8,
   "metadata": {},
   "outputs": [],
   "source": [
    "le = preprocessing.LabelEncoder()\n",
    "dataset = dataset.apply(le.fit_transform)"
   ]
  },
  {
   "cell_type": "code",
   "execution_count": 9,
   "metadata": {},
   "outputs": [],
   "source": [
    "X = dataset.drop(['Claims','ID'], axis = 1)\n",
    "Y = dataset['Claims']"
   ]
  },
  {
   "cell_type": "code",
   "execution_count": 10,
   "metadata": {
    "scrolled": true
   },
   "outputs": [
    {
     "name": "stdout",
     "output_type": "stream",
     "text": [
      "     Gender  Risk  Age_bracket  Education  Previous_claim\n",
      "0         0     3            2          0               0\n",
      "1         1     2            2          4               0\n",
      "2         0     2            1          2               0\n",
      "3         0     1            0          4               1\n",
      "4         0     3            0          3               1\n",
      "..      ...   ...          ...        ...             ...\n",
      "995       0     1            1          0               0\n",
      "996       0     2            1          4               0\n",
      "997       1     0            0          2               1\n",
      "998       0     0            2          3               0\n",
      "999       1     2            0          1               1\n",
      "\n",
      "[1000 rows x 5 columns]\n"
     ]
    }
   ],
   "source": [
    "print(X)"
   ]
  },
  {
   "cell_type": "code",
   "execution_count": 11,
   "metadata": {},
   "outputs": [
    {
     "name": "stdout",
     "output_type": "stream",
     "text": [
      "0      0\n",
      "1      0\n",
      "2      0\n",
      "3      0\n",
      "4      0\n",
      "      ..\n",
      "995    1\n",
      "996    1\n",
      "997    1\n",
      "998    1\n",
      "999    1\n",
      "Name: Claims, Length: 1000, dtype: int32\n"
     ]
    }
   ],
   "source": [
    "print(Y)"
   ]
  },
  {
   "cell_type": "code",
   "execution_count": 12,
   "metadata": {},
   "outputs": [],
   "source": [
    "#from sklearn.model_selection import train_test_split\n",
    "X_train, X_test, Y_train, Y_test = train_test_split(X, Y, test_size = 0.2, random_state=0)"
   ]
  },
  {
   "cell_type": "code",
   "execution_count": 13,
   "metadata": {},
   "outputs": [],
   "source": [
    "X_train = X_train.replace((np.inf, -np.inf, np.nan), 0).reset_index(drop=True)\n",
    "# Split the dataset train and test to build regression model"
   ]
  },
  {
   "cell_type": "markdown",
   "metadata": {},
   "source": [
    "# Decision Tree Classifier"
   ]
  },
  {
   "cell_type": "code",
   "execution_count": 14,
   "metadata": {
    "scrolled": false
   },
   "outputs": [],
   "source": [
    "from sklearn.tree import DecisionTreeClassifier\n",
    "from sklearn.metrics import confusion_matrix, accuracy_score, f1_score, classification_report\n",
    "import seaborn as sns"
   ]
  },
  {
   "cell_type": "code",
   "execution_count": 15,
   "metadata": {},
   "outputs": [],
   "source": [
    "tree_model = DecisionTreeClassifier(max_depth=6, criterion='entropy')\n",
    "tree_model.fit(X_train, Y_train)\n",
    "tree_pred = tree_model.predict(X_test)"
   ]
  },
  {
   "cell_type": "code",
   "execution_count": 16,
   "metadata": {},
   "outputs": [
    {
     "name": "stdout",
     "output_type": "stream",
     "text": [
      "-----------Accuracy Score-----------\n",
      "Accuracy score of the decision tree 0.795\n"
     ]
    }
   ],
   "source": [
    "print('-----------Accuracy Score-----------')\n",
    "print('Accuracy score of the decision tree', (accuracy_score(Y_test, tree_pred)))"
   ]
  },
  {
   "cell_type": "code",
   "execution_count": 17,
   "metadata": {},
   "outputs": [
    {
     "name": "stdout",
     "output_type": "stream",
     "text": [
      "-----------F1 Score-----------\n",
      "F1 score of the decision tree 0.8776119402985074\n"
     ]
    }
   ],
   "source": [
    "print('-----------F1 Score-----------')\n",
    "print('F1 score of the decision tree', (f1_score(Y_test, tree_pred)))"
   ]
  },
  {
   "cell_type": "code",
   "execution_count": 18,
   "metadata": {},
   "outputs": [
    {
     "data": {
      "image/png": "[encoded data removed]",
      "text/plain": [
       "<Figure size 720x576 with 2 Axes>"
      ]
     },
     "metadata": {
      "needs_background": "light"
     },
     "output_type": "display_data"
    }
   ],
   "source": [
    "cm = confusion_matrix(Y_test, tree_pred)\n",
    "fig, ax = plt.subplots(figsize=(10,8))\n",
    "sns.heatmap(cm, annot=True)\n",
    "plt.show()"
   ]
  },
  {
   "cell_type": "code",
   "execution_count": 19,
   "metadata": {},
   "outputs": [
    {
     "name": "stdout",
     "output_type": "stream",
     "text": [
      "-----------Classification Report-----------\n",
      "Confusion Matrix of the decision tree :- \n",
      "               precision    recall  f1-score   support\n",
      "\n",
      "           0       0.48      0.30      0.37        40\n",
      "           1       0.84      0.92      0.88       160\n",
      "\n",
      "    accuracy                           0.80       200\n",
      "   macro avg       0.66      0.61      0.62       200\n",
      "weighted avg       0.77      0.80      0.78       200\n",
      "\n"
     ]
    }
   ],
   "source": [
    "print('-----------Classification Report-----------')\n",
    "print('Confusion Matrix of the decision tree :- \\n', (classification_report(Y_test, tree_pred)))"
   ]
  },
  {
   "cell_type": "markdown",
   "metadata": {},
   "source": [
    "# Logistic Regression"
   ]
  },
  {
   "cell_type": "code",
   "execution_count": 20,
   "metadata": {},
   "outputs": [],
   "source": [
    "from sklearn.linear_model import LogisticRegression"
   ]
  },
  {
   "cell_type": "code",
   "execution_count": 21,
   "metadata": {},
   "outputs": [],
   "source": [
    "lr = LogisticRegression()\n",
    "lr.fit(X_train, Y_train)\n",
    "lr_pred = lr.predict(X_test)"
   ]
  },
  {
   "cell_type": "code",
   "execution_count": 22,
   "metadata": {},
   "outputs": [
    {
     "name": "stdout",
     "output_type": "stream",
     "text": [
      "-----------Accuracy Score-----------\n",
      "Accuracy score of the Logistic Regression 0.83\n"
     ]
    }
   ],
   "source": [
    "print('-----------Accuracy Score-----------')\n",
    "print('Accuracy score of the Logistic Regression', (accuracy_score(Y_test, lr_pred)))"
   ]
  },
  {
   "cell_type": "code",
   "execution_count": 23,
   "metadata": {},
   "outputs": [
    {
     "name": "stdout",
     "output_type": "stream",
     "text": [
      "-----------F1 Score-----------\n",
      "F1 score of the logistic regression 0.9028571428571428\n"
     ]
    }
   ],
   "source": [
    "print('-----------F1 Score-----------')\n",
    "print('F1 score of the logistic regression', (f1_score(Y_test, lr_pred)))"
   ]
  },
  {
   "cell_type": "code",
   "execution_count": 24,
   "metadata": {},
   "outputs": [
    {
     "name": "stdout",
     "output_type": "stream",
     "text": [
      "-----------Confusion Matrix-----------\n",
      "Confusion Matrix of the logistic regression :- \n",
      " [[  8  32]\n",
      " [  2 158]]\n"
     ]
    }
   ],
   "source": [
    "print('-----------Confusion Matrix-----------')\n",
    "print('Confusion Matrix of the logistic regression :- \\n', (confusion_matrix(Y_test, lr_pred)))"
   ]
  },
  {
   "cell_type": "code",
   "execution_count": 25,
   "metadata": {},
   "outputs": [
    {
     "name": "stdout",
     "output_type": "stream",
     "text": [
      "logistic Regression classification :-\n",
      "               precision    recall  f1-score   support\n",
      "\n",
      "           0       0.80      0.20      0.32        40\n",
      "           1       0.83      0.99      0.90       160\n",
      "\n",
      "    accuracy                           0.83       200\n",
      "   macro avg       0.82      0.59      0.61       200\n",
      "weighted avg       0.83      0.83      0.79       200\n",
      "\n"
     ]
    }
   ],
   "source": [
    "print('logistic Regression classification :-\\n',(classification_report(Y_test, lr_pred)))\n"
   ]
  },
  {
   "cell_type": "code",
   "execution_count": 26,
   "metadata": {},
   "outputs": [
    {
     "data": {
      "image/png": "[encoded data removed]",
      "text/plain": [
       "<Figure size 720x576 with 2 Axes>"
      ]
     },
     "metadata": {
      "needs_background": "light"
     },
     "output_type": "display_data"
    }
   ],
   "source": [
    "cm = confusion_matrix(Y_test, lr_pred)\n",
    "fig, ax = plt.subplots(figsize=(10,8))\n",
    "sns.heatmap(cm, annot=True)\n",
    "plt.show()"
   ]
  },
  {
   "cell_type": "markdown",
   "metadata": {},
   "source": [
    "# RandomForestClassifier"
   ]
  },
  {
   "cell_type": "code",
   "execution_count": 27,
   "metadata": {},
   "outputs": [],
   "source": [
    "from sklearn.ensemble import RandomForestClassifier"
   ]
  },
  {
   "cell_type": "code",
   "execution_count": 28,
   "metadata": {},
   "outputs": [],
   "source": [
    "rf = RandomForestClassifier()\n",
    "rf.fit(X_train, Y_train)\n",
    "rf_pred = rf.predict(X_test)"
   ]
  },
  {
   "cell_type": "code",
   "execution_count": 29,
   "metadata": {},
   "outputs": [
    {
     "name": "stdout",
     "output_type": "stream",
     "text": [
      "-----------Accuracy Score-----------\n",
      "Accuracy score of the Random Forest 0.735\n"
     ]
    }
   ],
   "source": [
    "print('-----------Accuracy Score-----------')\n",
    "print('Accuracy score of the Random Forest', (accuracy_score(Y_test, rf_pred)))"
   ]
  },
  {
   "cell_type": "code",
   "execution_count": 30,
   "metadata": {},
   "outputs": [
    {
     "name": "stdout",
     "output_type": "stream",
     "text": [
      "-----------F1 Score-----------\n",
      "F1 score of the random forest 0.8328075709779179\n"
     ]
    }
   ],
   "source": [
    "print('-----------F1 Score-----------')\n",
    "print('F1 score of the random forest', (f1_score(Y_test, rf_pred)))"
   ]
  },
  {
   "cell_type": "code",
   "execution_count": 31,
   "metadata": {},
   "outputs": [
    {
     "name": "stdout",
     "output_type": "stream",
     "text": [
      "-----------Confusion Matrix-----------\n",
      "Confusion Matrix of the random forest :- \n",
      " [[ 15  25]\n",
      " [ 28 132]]\n"
     ]
    }
   ],
   "source": [
    "print('-----------Confusion Matrix-----------')\n",
    "print('Confusion Matrix of the random forest :- \\n', (confusion_matrix(Y_test, rf_pred)))"
   ]
  },
  {
   "cell_type": "code",
   "execution_count": 32,
   "metadata": {},
   "outputs": [
    {
     "name": "stdout",
     "output_type": "stream",
     "text": [
      "-----------Classification Report-----------\n",
      "Confusion Matrix of the random forest :- \n",
      "               precision    recall  f1-score   support\n",
      "\n",
      "           0       0.35      0.38      0.36        40\n",
      "           1       0.84      0.82      0.83       160\n",
      "\n",
      "    accuracy                           0.73       200\n",
      "   macro avg       0.59      0.60      0.60       200\n",
      "weighted avg       0.74      0.73      0.74       200\n",
      "\n"
     ]
    }
   ],
   "source": [
    "print('-----------Classification Report-----------')\n",
    "print('Confusion Matrix of the random forest :- \\n', (classification_report(Y_test, rf_pred)))"
   ]
  },
  {
   "cell_type": "code",
   "execution_count": 33,
   "metadata": {},
   "outputs": [
    {
     "data": {
      "image/png": "[encoded data removed]",
      "text/plain": [
       "<Figure size 720x576 with 2 Axes>"
      ]
     },
     "metadata": {
      "needs_background": "light"
     },
     "output_type": "display_data"
    }
   ],
   "source": [
    "cm = confusion_matrix(Y_test, rf_pred)\n",
    "fig, ax = plt.subplots(figsize=(10,8))\n",
    "sns.heatmap(cm, annot=True)\n",
    "plt.show()"
   ]
  },
  {
   "cell_type": "markdown",
   "metadata": {},
   "source": [
    "# Removing Gender column "
   ]
  },
  {
   "cell_type": "code",
   "execution_count": 34,
   "metadata": {},
   "outputs": [],
   "source": [
    "X1 = dataset.drop(['Claims','ID','Gender'], axis = 1)\n",
    "Y1 = dataset['Claims']"
   ]
  },
  {
   "cell_type": "code",
   "execution_count": 35,
   "metadata": {},
   "outputs": [],
   "source": [
    "#from sklearn.model_selection import train_test_split\n",
    "X_train, X_test, Y_train, Y_test = train_test_split(X1, Y1, test_size = 0.2, random_state=0)"
   ]
  },
  {
   "cell_type": "code",
   "execution_count": 36,
   "metadata": {},
   "outputs": [],
   "source": [
    "tree_model = DecisionTreeClassifier(max_depth=6, criterion='entropy')\n",
    "tree_model.fit(X_train, Y_train)\n",
    "tree_pred = tree_model.predict(X_test)"
   ]
  },
  {
   "cell_type": "code",
   "execution_count": 37,
   "metadata": {},
   "outputs": [
    {
     "name": "stdout",
     "output_type": "stream",
     "text": [
      "-----------Accuracy Score-----------\n",
      "Accuracy score of the Logistic Regression 0.8\n"
     ]
    }
   ],
   "source": [
    "print('-----------Accuracy Score-----------')\n",
    "print('Accuracy score of the Logistic Regression', (accuracy_score(Y_test, tree_pred)))"
   ]
  },
  {
   "cell_type": "code",
   "execution_count": 38,
   "metadata": {},
   "outputs": [
    {
     "name": "stdout",
     "output_type": "stream",
     "text": [
      "-----------F1 Score-----------\n",
      "F1 score of the decision tree 0.8816568047337279\n"
     ]
    }
   ],
   "source": [
    "print('-----------F1 Score-----------')\n",
    "print('F1 score of the decision tree', (f1_score(Y_test, tree_pred)))"
   ]
  },
  {
   "cell_type": "code",
   "execution_count": 39,
   "metadata": {},
   "outputs": [
    {
     "name": "stdout",
     "output_type": "stream",
     "text": [
      "-----------Classification Report-----------\n",
      "Confusion Matrix of the random forest :- \n",
      "               precision    recall  f1-score   support\n",
      "\n",
      "           0       0.50      0.28      0.35        40\n",
      "           1       0.84      0.93      0.88       160\n",
      "\n",
      "    accuracy                           0.80       200\n",
      "   macro avg       0.67      0.60      0.62       200\n",
      "weighted avg       0.77      0.80      0.78       200\n",
      "\n"
     ]
    }
   ],
   "source": [
    "print('-----------Classification Report-----------')\n",
    "print('Confusion Matrix of the random forest :- \\n', (classification_report(Y_test, tree_pred)))"
   ]
  },
  {
   "cell_type": "code",
   "execution_count": 40,
   "metadata": {},
   "outputs": [],
   "source": [
    "lr = LogisticRegression()\n",
    "lr.fit(X_train, Y_train)\n",
    "lr_pred = lr.predict(X_test)"
   ]
  },
  {
   "cell_type": "code",
   "execution_count": 41,
   "metadata": {},
   "outputs": [
    {
     "name": "stdout",
     "output_type": "stream",
     "text": [
      "-----------Accuracy Score-----------\n",
      "Accuracy score of the Logistic Regression 0.825\n"
     ]
    }
   ],
   "source": [
    "print('-----------Accuracy Score-----------')\n",
    "print('Accuracy score of the Logistic Regression', (accuracy_score(Y_test, lr_pred)))"
   ]
  },
  {
   "cell_type": "code",
   "execution_count": 42,
   "metadata": {},
   "outputs": [
    {
     "name": "stdout",
     "output_type": "stream",
     "text": [
      "-----------F1 Score-----------\n",
      "F1 score of the logistic regression 0.8997134670487106\n"
     ]
    }
   ],
   "source": [
    "print('-----------F1 Score-----------')\n",
    "print('F1 score of the logistic regression', (f1_score(Y_test, lr_pred)))"
   ]
  },
  {
   "cell_type": "code",
   "execution_count": 43,
   "metadata": {},
   "outputs": [
    {
     "name": "stdout",
     "output_type": "stream",
     "text": [
      "logistic Regression classification :-\n",
      "               precision    recall  f1-score   support\n",
      "\n",
      "           0       0.73      0.20      0.31        40\n",
      "           1       0.83      0.98      0.90       160\n",
      "\n",
      "    accuracy                           0.82       200\n",
      "   macro avg       0.78      0.59      0.61       200\n",
      "weighted avg       0.81      0.82      0.78       200\n",
      "\n"
     ]
    }
   ],
   "source": [
    "print('logistic Regression classification :-\\n',(classification_report(Y_test, lr_pred)))"
   ]
  },
  {
   "cell_type": "code",
   "execution_count": null,
   "metadata": {},
   "outputs": [],
   "source": []
  }
 ],
 "metadata": {
  "kernelspec": {
   "display_name": "Python 3 (ipykernel)",
   "language": "python",
   "name": "python3"
  },
  "language_info": {
   "codemirror_mode": {
    "name": "ipython",
    "version": 3
   },
   "file_extension": ".py",
   "mimetype": "text/x-python",
   "name": "python",
   "nbconvert_exporter": "python",
   "pygments_lexer": "ipython3",
   "version": "3.8.8"
  }
 },
 "nbformat": 4,
 "nbformat_minor": 4
}
